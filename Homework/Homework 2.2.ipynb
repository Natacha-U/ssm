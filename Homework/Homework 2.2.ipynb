{
 "cells": [
  {
   "cell_type": "code",
   "execution_count": 1,
   "id": "joined-grocery",
   "metadata": {},
   "outputs": [],
   "source": [
    "import numpy as np\n",
    "import matplotlib.pyplot as plt\n",
    "import matplotlib.animation as animation"
   ]
  },
  {
   "cell_type": "markdown",
   "id": "cc75b182",
   "metadata": {},
   "source": [
    "### Homework 2.2 - Heat Transfer\n",
    "\n",
    "Use the finite differential method to solve a heat transfer equation, given by\n",
    "\n",
    "$$ \\frac{{\\partial T}}{{\\partial t}} = k\\frac{{{\\partial ^2}T}}{{\\partial {x^2}}} $$\n",
    "\n",
    "where $T(t, x)$ is the temperature distribution function.\n",
    "\n",
    "Solve the equation for $x$ between 0 and 1. At $x=0$ the temperature varies as $T(t,0)=sin(10t)$ and at At $x=1$ the temperature varies as $T(t,0)=e^{ - 100 (t - 0.15)^2}$.\n",
    "\n",
    "Make the animated clip of the temperature distribution function evolution. Pick appropriate time range."
   ]
  },
  {
   "cell_type": "markdown",
   "id": "perceived-anniversary",
   "metadata": {},
   "source": [
    "$$ \\frac{{{T_{i,j + 1}} - {T_{i,j}}}}{\\eta } = k \\frac{{{T_{i + 1,j}} - 2{T_{i,j}} + {T_{i - 1,j}}}}{{{\\delta ^2}}}$$\n",
    "\n",
    "$$\\begin{array}{l}\n",
    "{x_i} = i\\delta \\\\\n",
    "{t_j} = j\\eta\n",
    "\\end{array}$$\n",
    "\n",
    "where $i = 0, 1, 2, ..., N$ and $j = 0, 1, 2, ..., M$"
   ]
  },
  {
   "cell_type": "markdown",
   "id": "faced-fault",
   "metadata": {},
   "source": [
    "Let $\\varepsilon  = \\frac{{k\\eta }}{{{\\delta ^2}}}$\n",
    "$${T_{i,j + 1}} = \\varepsilon \\left( {{T_{i + 1,j}} - 2{T_{i,j}} + {T_{i - 1,j}}} \\right) + {T_{i,j}}$$"
   ]
  },
  {
   "cell_type": "code",
   "execution_count": 2,
   "id": "pending-waterproof",
   "metadata": {},
   "outputs": [],
   "source": [
    "# set nx and nt\n",
    "nx = 15\n",
    "nt = 1100\n",
    "\n",
    "# set x between 0 and 1\n",
    "x = np.linspace(0, 1, nx)\n",
    "\n",
    "# delta is the dh term and eta is the dt term\n",
    "dh = 1/nx # delta\n",
    "dt = 10/nt # eta\n",
    "\n",
    "# set k\n",
    "k = 0.1 # do i make k = 1 ? Is this how this works ?\n",
    "# No, I don't this is how this works since eps should be < 1\n",
    "# and now my eps is < 1 so it should be fine...right ? \n",
    "# sounds like a famous last words 555\n",
    "\n",
    "# set epsilon \n",
    "eps = (k*dt)/(dh**2)\n",
    "\n",
    "# set up the grid U (or T in this case)\n",
    "T = np.zeros((nx,nt))\n",
    "\n",
    "# set up the boundary conditions \n",
    "# the top most\n",
    "T[0][0] = np.sin(10*1*dt) # 0 is the j \n",
    "# the bottom most \n",
    "T[-1][0] = np.exp(-100*(0*dt - 0.15)**2)\n",
    "\n",
    "for j in range(1,nt-1):\n",
    "    # update all the boundary conditions at time t\n",
    "    T[0][j] = np.sin(10*(j)*dt) # top most row\n",
    "    T[-1][j] = np.exp(-100*((j)*dt - 0.15)**2) # bottom most row\n",
    "    for i in range(1, nx - 1):\n",
    "        # update all the other positions\n",
    "        T[i][j+1] = eps*(T[i+1][j]-2*T[i][j]+T[i-1][j]) + T[i][j] "
   ]
  },
  {
   "cell_type": "code",
   "execution_count": 3,
   "id": "novel-ladder",
   "metadata": {},
   "outputs": [
    {
     "data": {
      "image/png": "[encoded data removed]",
      "text/plain": [
       "<Figure size 432x288 with 1 Axes>"
      ]
     },
     "metadata": {
      "needs_background": "light"
     },
     "output_type": "display_data"
    }
   ],
   "source": [
    "fig1 = plt.figure()\n",
    "l = plt.plot(x, T[:,0], color = 'blue')\n",
    "axes = plt.gca()\n",
    "axes.set_ylim([-1,1])\n",
    "plt.grid()\n",
    "\n",
    "def animate(i, line):\n",
    "    line.set_data(x,T[:,i])\n",
    "    return line,\n",
    "\n",
    "ani = animation.FuncAnimation(fig1, animate, 500, fargs = (l), interval = 50, blit = True)\n",
    "ani.save('Heat_transfer.mp4', fps = 50, extra_args = ['-vcodec', 'libx264'])\n",
    "plt.show()"
   ]
  },
  {
   "cell_type": "code",
   "execution_count": null,
   "id": "everyday-stable",
   "metadata": {},
   "outputs": [],
   "source": []
  }
 ],
 "metadata": {
  "kernelspec": {
   "display_name": "Python 3",
   "language": "python",
   "name": "python3"
  },
  "language_info": {
   "codemirror_mode": {
    "name": "ipython",
    "version": 3
   },
   "file_extension": ".py",
   "mimetype": "text/x-python",
   "name": "python",
   "nbconvert_exporter": "python",
   "pygments_lexer": "ipython3",
   "version": "3.7.9"
  }
 },
 "nbformat": 4,
 "nbformat_minor": 5
}
