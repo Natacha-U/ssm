{
 "cells": [
  {
   "cell_type": "code",
   "execution_count": 1,
   "metadata": {},
   "outputs": [],
   "source": [
    "import numpy as np\n",
    "import matplotlib.pyplot as plt\n",
    "import matplotlib.animation as animation"
   ]
  },
  {
   "cell_type": "markdown",
   "metadata": {
    "collapsed": true
   },
   "source": [
    "### Homework 2.1.1 - 1D Wave\n",
    "\n",
    "Solve the wave equation\n",
    "\n",
    "$$\\frac{{{\\partial ^2}u}}{{\\partial {t^2}}} = c^2 \\frac{{{\\partial ^2}u}}{{\\partial {x^2}}}$$\n",
    "\n",
    "subjected to the **feeding wave boundary condition** at $x = 0$,\n",
    "\n",
    "$$u(0, t) = 2\\sin(\\omega t)$$\n",
    "\n",
    "and the boundary condition on the other end, $x = L$ is an **open boundary condition**.\n",
    "\n",
    "where $L = 1$ and the initial condition at $t=0$ is:\n",
    "\n",
    "$$u(x, 0) = 0$$\n",
    "\n",
    "You choose appropreate values of **the speed ($c$)** and **the frequency ($\\omega$)** to make a nice time-animated graph video clip."
   ]
  },
  {
   "cell_type": "markdown",
   "metadata": {},
   "source": [
    "## HW 2.1, 2.2 and 2.3 will not be completed without the help of First :)\n",
    "\n",
    "#### So, thanks First; altho First might not see this, but...yeah 555"
   ]
  },
  {
   "cell_type": "markdown",
   "metadata": {},
   "source": [
    "$x$ and $t$ :\n",
    "$$\\begin{array}{l}\n",
    "{x_i} = ih\\\\\n",
    "{t_j} = j\\delta \n",
    "\\end{array}$$\n",
    "\n",
    "Position $x$ at time step $j+1$:\n",
    "$${u_{i,j + 1}} = \\frac{{{\\delta ^2}{c^2}}}{{{h^2}}}\\left( {{u_{i + 1,j}} + {u_{i - 1,j}}} \\right) + 2\\left( {1 - \\frac{{{\\delta ^2}{c^2}}}{{{h^2}}}} \\right){u_{i,j}} - {u_{i,j - 1}}$$\n",
    "\n",
    "Wave function at $x = 0$ for all $t$ :\n",
    "$$ u(x=0,t) = 2\\sin(\\omega t)$$\n",
    "So will have to set this first for every time step before iterating all $x$ and $t$\n",
    "\n",
    "The open boundary condition at $x=L$:\n",
    "$$ \\frac{\\partial u}{\\partial t} + c\\frac{\\partial u}{\\partial x} = 0\\\\\n",
    "\\frac{u_{j+1} - u_{j-1}}{2\\delta} = - c\\frac{u_{i+1} - u_{i-1}}{2h}\\\\\n",
    "u_{j+1} = -c(u_{i+1}-u_{i-1})\\Big(\\frac{\\delta}{h}\\Big)+u_{j-1}$$\n",
    "\n",
    "In terms of both $i,j$ it becomes \n",
    "$$u_{i,j+1} = -c(u_{i+1,j}-u_{i-1,j})\\Big(\\frac{\\delta}{h}\\Big)+u_{i,j-1}$$\n",
    "And since we are at $x=L$, $i=-1$\n",
    "\n",
    "So \n",
    "$$u_{-1,j+1} = -c(u_{0,j}-u_{-2,j})\\Big(\\frac{\\delta}{h}\\Big)+u_{-1,j-1}$$\n",
    "And we have to initialise this before we change the values at every other $x=i$\n",
    "\n",
    "\n",
    "*The $u_{0,j}$ seems kinda sus tho*"
   ]
  },
  {
   "cell_type": "code",
   "execution_count": 2,
   "metadata": {},
   "outputs": [
    {
     "name": "stdout",
     "output_type": "stream",
     "text": [
      "dt 0.001\n",
      "dh 0.01\n",
      "eps 0.04000000000000001\n"
     ]
    }
   ],
   "source": [
    "# x = 0 to L \n",
    "x = np.linspace(0, 1., num = 100)\n",
    "\n",
    "# set nx and nt\n",
    "nx = 100\n",
    "nt = 1000\n",
    "\n",
    "# time step \n",
    "dt = 1/nt\n",
    "print('dt', dt)\n",
    "# spatial step \n",
    "dh = 1/nx\n",
    "print('dh', dh)\n",
    "\n",
    "# c, freq(omega) and epsilon\n",
    "c = 2 # for simplicity... # or not...\n",
    "omega = 30 # I'll come fix it later # A message from later version on myself : fixed\n",
    "eps = ((dt*c/dh)**2)\n",
    "print('eps', eps)\n",
    "\n",
    "# set up the grid for u (the initial condition at time t = 0)\n",
    "u = np.zeros((nx,nt))\n",
    "\n",
    "# set boundary condition \n",
    "u[0,0] = 2*np.sin(omega*0*dt) # the 0 is the j --> because t_j is j*dt \n",
    "\n",
    "for j in range(1, nt-1):\n",
    "    # boundary condition changes as t changes \n",
    "    # every time we are at the new timestep dt, there is a new boundary condition\n",
    "    # so have to continue to update that \n",
    "    # This one is the feeding wave at x = 0, t = t\n",
    "    u[0,j] = 2*np.sin(omega*dt*(j))\n",
    "    # Now the open boundary condition \n",
    "    # Have to set this before changing any other value since it is the boundary contidion at x = L\n",
    "    u[-1][j+1] = -c*(u[-1][j-1]-u[-2][j-1])*(2*dt/dh) + u[-1][j-1]\n",
    "    for i in range(1, nx-1):\n",
    "        # for iterating the step after the setting up the boundary condition at each time step\n",
    "        u[i][j+1] = eps*(u[i+1][j] + u[i-1][j]) + 2*(1-eps)*u[i][j] - u[i][j-1] "
   ]
  },
  {
   "cell_type": "code",
   "execution_count": 3,
   "metadata": {},
   "outputs": [
    {
     "data": {
      "image/png": "[encoded data removed]",
      "text/plain": [
       "<Figure size 432x288 with 1 Axes>"
      ]
     },
     "metadata": {
      "needs_background": "light"
     },
     "output_type": "display_data"
    }
   ],
   "source": [
    "fig1 = plt.figure()\n",
    "l = plt.plot(x, u[:,0], color = 'salmon')\n",
    "axes = plt.gca()\n",
    "axes.set_ylim([-5,5])\n",
    "plt.grid()\n",
    "\n",
    "def animate(i, line):\n",
    "    line.set_data(x,u[:,i-1])\n",
    "    return line,\n",
    "\n",
    "ani = animation.FuncAnimation(fig1, animate, 1000, fargs = (l), interval = 50, blit = True)\n",
    "ani.save('1Dwave.mp4', fps = 100, extra_args = ['-vcodec', 'libx264'])\n",
    "plt.show()"
   ]
  },
  {
   "cell_type": "markdown",
   "metadata": {
    "collapsed": true
   },
   "source": [
    "___\n",
    "### Homework 2.1.2 - 1D Wave with damping\n",
    "\n",
    "Solve the wave equation\n",
    "\n",
    "$$\\frac{\\partial^2 u}{\\partial t^2} = c^2 \\frac{\\partial^2 u}{\\partial x^2} - k \\frac{\\partial u}{\\partial t}$$\n",
    "\n",
    "subjected to the **feeding wave boundary condition** at $x = 0$,\n",
    "\n",
    "$$u(0, t) = 2\\sin(\\omega t)$$\n",
    "\n",
    "and the boundary condition on the other end, $x = L$ is an **open boundary condition**.\n",
    "\n",
    "where $L = 1$ and the initial condition at $t=0$ is:\n",
    "\n",
    "$$u(x, 0) = 0$$\n",
    "\n",
    "You choose appropreate values of **the speed ($c$)**, **the frequency ($\\omega$)**, and **the damping factor ($k$)** to make a nice time-animated graph video clip."
   ]
  },
  {
   "cell_type": "markdown",
   "metadata": {},
   "source": [
    "$$\\frac{\\partial^2u}{\\partial t^2} = c^2\\frac{\\partial^2u}{\\partial x^2} - k\\frac{\\partial u}{\\partial t}$$\n",
    "\n",
    "So we have \n",
    "\n",
    "$$ \\frac{u_{i,j+1} - 2u_{i,j} + u_{i,j-1}}{\\delta^2} = c^2\\frac{u_{i+1,j}-2u_{i,j}+u_{i-1,j}}{h^2} - k\\frac{u_{i,j+1}-u_{i,j-1}}{2\\delta}$$\n",
    "\n",
    "Make $u_{i,j+1}$ the subject and we get (yeah, I go straight to the solution, I ain't typing the whole derivation 555)\n",
    "\n",
    "$$u_{i,j+1} = \\Bigg(\\Big(\\frac{2c^2\\delta^2}{h^2}\\Big)(u_{i+1,j}-2u_{i,j}+u_{i-1,j}) + 4u_{i,j} - 2u_{i,j-1} + k\\delta u_{i,j-1} \\Bigg)\\cdot \\frac{1}{2+k\\delta}$$"
   ]
  },
  {
   "cell_type": "code",
   "execution_count": 4,
   "metadata": {},
   "outputs": [
    {
     "name": "stdout",
     "output_type": "stream",
     "text": [
      "dt 0.001\n",
      "dh 0.01\n",
      "eps 0.08000000000000002\n"
     ]
    }
   ],
   "source": [
    "# set up the x from 0 to 1\n",
    "x = np.linspace(0, 1., num = 100)\n",
    "\n",
    "# set nx and nt\n",
    "nx = 100\n",
    "nt = 1000\n",
    "\n",
    "# time step \n",
    "dt = 1/nt\n",
    "print('dt', dt)\n",
    "# spatial step \n",
    "dh = 1/nx\n",
    "print('dh', dh)\n",
    "\n",
    "# c, freq(omega), k and epsilon\n",
    "c = 2 # for simplicity...\n",
    "omega = 30 # I'll come fix it later # A message from later version on myself : fixed\n",
    "eps = (2*(dt*c/dh)**2)\n",
    "k = 3 # for simplicity\n",
    "print('eps', eps)\n",
    "# eps is < 1, cool \n",
    "\n",
    "# set up the grid for u (the initial condition at time t = 0)\n",
    "u = np.zeros((nx,nt))\n",
    "\n",
    "# set boundary condition \n",
    "u[0,0] = 2*np.sin(omega*0*dt) # the 0 is the j --> because t_j is j*dt \n",
    "\n",
    "\n",
    "for j in range(1, nt-1):\n",
    "    # boundary condition changes as t changes \n",
    "    # every time we are at the new timestep dt, there is a new boundary condition\n",
    "    # so have to continue to update that \n",
    "    # This one is the feeding wave at x = 0, t = t\n",
    "    u[0,j] = 2*np.sin(omega*dt*(j))\n",
    "    # Now the open boundary condition \n",
    "    # Have to set this before changing any other value since it is the boundary contidion at x = L\n",
    "    u[-1][j+1] = -c*(u[-1][j-1]-u[-2][j-1])*(2*dt/dh) + u[-1][j-1]\n",
    "    for i in range(1, nx-1):\n",
    "        # for iterating the step after the setting up the boundary condition at each time step\n",
    "        u[i][j+1] = (eps*(u[i+1][j] - 2*u[i,j]+u[i-1,j])+ 4*u[i,j]-2*u[i,j-1]+k*dt*u[i,j-1])*(1/(2+k*dt))"
   ]
  },
  {
   "cell_type": "code",
   "execution_count": 5,
   "metadata": {},
   "outputs": [
    {
     "data": {
      "image/png": "[encoded data removed]",
      "text/plain": [
       "<Figure size 432x288 with 1 Axes>"
      ]
     },
     "metadata": {
      "needs_background": "light"
     },
     "output_type": "display_data"
    }
   ],
   "source": [
    "fig2 = plt.figure()\n",
    "l = plt.plot(x, u[:,0], color = 'magenta')\n",
    "axes = plt.gca()\n",
    "axes.set_ylim([-5,5])\n",
    "plt.grid()\n",
    "\n",
    "def animate(i, line):\n",
    "    line.set_data(x,u[:,i-1])\n",
    "    return line,\n",
    "\n",
    "ani = animation.FuncAnimation(fig2, animate, 1000, fargs = (l), interval = 50, blit = True)\n",
    "ani.save('1DDampedwave.mp4', fps = 100, extra_args = ['-vcodec', 'libx264'])\n",
    "plt.show()"
   ]
  },
  {
   "cell_type": "code",
   "execution_count": null,
   "metadata": {},
   "outputs": [],
   "source": []
  }
 ],
 "metadata": {
  "kernelspec": {
   "display_name": "Python 3",
   "language": "python",
   "name": "python3"
  },
  "language_info": {
   "codemirror_mode": {
    "name": "ipython",
    "version": 3
   },
   "file_extension": ".py",
   "mimetype": "text/x-python",
   "name": "python",
   "nbconvert_exporter": "python",
   "pygments_lexer": "ipython3",
   "version": "3.7.9"
  }
 },
 "nbformat": 4,
 "nbformat_minor": 1
}
